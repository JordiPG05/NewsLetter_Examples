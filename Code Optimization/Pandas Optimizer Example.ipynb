{
 "cells": [
  {
   "cell_type": "code",
   "execution_count": 1,
   "metadata": {},
   "outputs": [
    {
     "name": "stdout",
     "output_type": "stream",
     "text": [
      "Memoria no optimizada: 74000132 bytes\n",
      "Memoria optimizada: 6000302 bytes\n"
     ]
    }
   ],
   "source": [
    "import pandas as pd\n",
    "import numpy as np\n",
    "\n",
    "# Creando un DataFrame sin optimización de dtypes\n",
    "np.random.seed(0)\n",
    "data = {\n",
    "    'enteros': np.random.randint(1, 10, 1000000),  # Números enteros\n",
    "    'flotantes': np.random.randn(1000000),  # Números flotantes\n",
    "    'texto': ['texto'] * 1000000  # Cadenas de texto\n",
    "}\n",
    "df_no_optimizado = pd.DataFrame(data)\n",
    "\n",
    "# Diagnosticando el uso de memoria antes de la optimización\n",
    "memoria_no_optimizada = df_no_optimizado.memory_usage(deep=True).sum()\n",
    "\n",
    "# Optimizando dtypes\n",
    "df_optimizado = df_no_optimizado.copy()\n",
    "df_optimizado['enteros'] = df_optimizado['enteros'].astype('int8')\n",
    "df_optimizado['flotantes'] = df_optimizado['flotantes'].astype('float32')\n",
    "df_optimizado['texto'] = df_optimizado['texto'].astype('category')\n",
    "\n",
    "# Diagnosticando el uso de memoria después de la optimización\n",
    "memoria_optimizada = df_optimizado.memory_usage(deep=True).sum()\n",
    "\n",
    "print(f\"Memoria no optimizada: {memoria_no_optimizada} bytes\")\n",
    "print(f\"Memoria optimizada: {memoria_optimizada} bytes\")"
   ]
  },
  {
   "cell_type": "code",
   "execution_count": 8,
   "metadata": {},
   "outputs": [
    {
     "name": "stdout",
     "output_type": "stream",
     "text": [
      "------- No optimizado -------\n",
      "Resultado de la suma: 5001524 - Tiempo de ejecucion: 0.0019397735595703125 segundos\n",
      "------- Optimizado -------\n",
      "Resultado de la suma: 5001524 - Tiempo de ejecucion: 0.0011143684387207031 segundos\n"
     ]
    }
   ],
   "source": [
    "import time\n",
    "\n",
    "# Calculando la suma de los números enteros en el dataframe no optimizado\n",
    "inicio_no_optimizado = time.time()\n",
    "suma_no_optimizada = df_no_optimizado['enteros'].sum()\n",
    "tiempo_no_optimizado = time.time() - inicio_no_optimizado\n",
    "\n",
    "# Calculando la suma de los números enteros en el dataframe optimizado\n",
    "inicio_optimizado = time.time()\n",
    "suma_optimizada = df_optimizado['enteros'].sum()\n",
    "tiempo_optimizado = time.time() - inicio_optimizado\n",
    "\n",
    "print(f\"\"\"------- No optimizado -------\n",
    "Resultado de la suma: {suma_no_optimizada} - Tiempo de ejecucion: {tiempo_no_optimizado} segundos\"\"\")\n",
    "\n",
    "print(f\"\"\"------- Optimizado -------\n",
    "Resultado de la suma: {suma_optimizada} - Tiempo de ejecucion: {tiempo_optimizado} segundos\"\"\")\n"
   ]
  }
 ],
 "metadata": {
  "kernelspec": {
   "display_name": "Python 3",
   "language": "python",
   "name": "python3"
  },
  "language_info": {
   "codemirror_mode": {
    "name": "ipython",
    "version": 3
   },
   "file_extension": ".py",
   "mimetype": "text/x-python",
   "name": "python",
   "nbconvert_exporter": "python",
   "pygments_lexer": "ipython3",
   "version": "3.11.7"
  }
 },
 "nbformat": 4,
 "nbformat_minor": 2
}
